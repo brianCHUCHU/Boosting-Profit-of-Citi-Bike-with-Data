{
 "cells": [
  {
   "cell_type": "code",
   "execution_count": 3,
   "id": "ad62ada4-6121-45d8-8d40-0df6504e7b81",
   "metadata": {},
   "outputs": [
    {
     "name": "stderr",
     "output_type": "stream",
     "text": [
      "/opt/conda/envs/anaconda-panel-2023.05-py310/lib/python3.11/site-packages/matplotlib/animation.py:884: UserWarning: Animation was deleted without rendering anything. This is most likely not intended. To prevent deletion, assign the Animation to a variable, e.g. `anim`, that exists until you output the Animation using `plt.show()` or `anim.save()`.\n",
      "  warnings.warn(\n"
     ]
    },
    {
     "data": {
      "text/plain": [
       "<Figure size 1000x700 with 0 Axes>"
      ]
     },
     "metadata": {},
     "output_type": "display_data"
    }
   ],
   "source": [
    "# 輸入套件\n",
    "import numpy as np\n",
    "import seaborn as sns\n",
    "import matplotlib.pyplot as plt\n",
    "from matplotlib.animation import FuncAnimation\n",
    "# 定義熱力圖函數\n",
    "data = np.zeros((7, 24))\n",
    "weekday_labels = ['Monday', 'Tuesday', 'Wednesday', 'Thursday', 'Friday', 'Saturday', 'Sunday']\n",
    "cmap = sns.light_palette(\"#34b7cc\", as_cmap=True, n_colors=20)\n",
    "def plot_heatmap(frame):\n",
    "    plt.clf()\n",
    "    if frame != 0:\n",
    "        if frame % 5 == 1:\n",
    "            data[0:5, 6:15] += 1\n",
    "        elif frame % 5 == 2:\n",
    "            data[0:5, 11:20] += 1\n",
    "        elif frame % 5 == 3:\n",
    "            data[0:5, 15:] += 1\n",
    "        elif frame % 10 == 4:\n",
    "            data[5:7, 11:20] += 1\n",
    "            data[2:5, 0:9] += 1\n",
    "        elif frame % 10 == 9:\n",
    "            data[5:7, 8:17] += 1\n",
    "            data[0:3, 0:9] += 1\n",
    "        elif frame % 30 == 5:\n",
    "            data[2:7, 8:17] += 1\n",
    "        elif frame % 30 == 10:\n",
    "            data[0:2, 8:17] += 1\n",
    "            data[4:7, 8:17] += 1\n",
    "        elif frame % 30 == 15:\n",
    "            data[2:7, 15:] += 1\n",
    "        elif frame % 30 == 20:\n",
    "            data[0:2, 15:] += 1\n",
    "            data[4:7, 15:] += 1\n",
    "        elif frame % 30 == 25:\n",
    "            data[2:7, 0:9] += 1\n",
    "        elif frame % 30 == 0:\n",
    "            data[0:2, 0:9] += 1\n",
    "            data[4:7, 0:9] += 1\n",
    "    # 繪製熱力圖\n",
    "    sns.heatmap(data.astype(int), fmt=\"d\", cmap=cmap, annot=True, linewidths=.5, cbar=True, yticklabels=weekday_labels, vmin=0)\n",
    "    plt.title(f'Employee = {frame}')\n",
    "# 設定動畫\n",
    "num_frames = 31\n",
    "plt.gcf().set_size_inches(10, 7)\n",
    "animation = FuncAnimation(plt.gcf(), plot_heatmap, frames=num_frames, interval=500, repeat=False)  # 每秒顯示一幀\n",
    "plt.show()\n",
    "\n"
   ]
  },
  {
   "cell_type": "code",
   "execution_count": null,
   "id": "29ba3bde-d692-4181-8c7f-fdd58bfdbf28",
   "metadata": {},
   "outputs": [],
   "source": []
  }
 ],
 "metadata": {
  "kernelspec": {
   "display_name": "anaconda-panel-2023.05-py310",
   "language": "python",
   "name": "conda-env-anaconda-panel-2023.05-py310-py"
  },
  "language_info": {
   "codemirror_mode": {
    "name": "ipython",
    "version": 3
   },
   "file_extension": ".py",
   "mimetype": "text/x-python",
   "name": "python",
   "nbconvert_exporter": "python",
   "pygments_lexer": "ipython3",
   "version": "3.11.5"
  }
 },
 "nbformat": 4,
 "nbformat_minor": 5
}
