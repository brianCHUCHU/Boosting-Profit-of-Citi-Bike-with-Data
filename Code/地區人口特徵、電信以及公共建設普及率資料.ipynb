{
 "cells": [
  {
   "cell_type": "code",
   "execution_count": null,
   "id": "1a5b2bc2",
   "metadata": {},
   "outputs": [],
   "source": [
    "import pandas as pd\n",
    "neighborhood_df = pd.read_csv('internet survey v1.csv', sep=',')"
   ]
  },
  {
   "cell_type": "code",
   "execution_count": null,
   "id": "e273451e",
   "metadata": {},
   "outputs": [],
   "source": [
    "import geopandas as gpd\n",
    "\n",
    "geojson_path = 'path/to/nyu-2451-34572-geojson.json'\n",
    "neighborhoods = gpd.read_file(geojson_path)"
   ]
  },
  {
   "cell_type": "code",
   "execution_count": null,
   "id": "f04f647d",
   "metadata": {},
   "outputs": [],
   "source": [
    "# List of neighborhoods and their coordinates\n",
    "neighborhoods_data = [\n",
    "    {\"Neighborhood\": \"Marble Hill-Inwood\", \"Latitude\": 40.8699, \"Longitude\": -73.9172},\n",
    "    {\"Neighborhood\": \"Central Harlem North-Polo Grounds\", \"Latitude\": 40.8158, \"Longitude\": -73.9401},\n",
    "    {\"Neighborhood\": \"Hamilton Heights\", \"Latitude\": 40.8241, \"Longitude\": -73.9507},\n",
    "    {\"Neighborhood\": \"Manhattanville\", \"Latitude\": 40.8134, \"Longitude\": -73.9572},\n",
    "    {\"Neighborhood\": \"Central Harlem South\", \"Latitude\": 40.8051, \"Longitude\": -73.9513},\n",
    "    {\"Neighborhood\": \"Upper West Side\", \"Latitude\": 40.787, \"Longitude\": -73.9754},\n",
    "    {\"Neighborhood\": \"Hudson Yards-Chelsea-Flat Iron-Union Square\", \"Latitude\": 40.7549, \"Longitude\": -73.9945},\n",
    "    {\"Neighborhood\": \"Lincoln Square\", \"Latitude\": 40.7737, \"Longitude\": -73.9857},\n",
    "    {\"Neighborhood\": \"Clinton\", \"Latitude\": 40.7625, \"Longitude\": -73.9961},\n",
    "    {\"Neighborhood\": \"Midtown-Midtown South\", \"Latitude\": 40.7549, \"Longitude\": -73.984},\n",
    "    {\"Neighborhood\": \"Murray Hill-Kips Bay\", \"Latitude\": 40.7446, \"Longitude\": -73.978},\n",
    "    {\"Neighborhood\": \"Gramercy\", \"Latitude\": 40.7379, \"Longitude\": -73.9857},\n",
    "    {\"Neighborhood\": \"East Village\", \"Latitude\": 40.7293, \"Longitude\": -73.9878},\n",
    "    {\"Neighborhood\": \"SoHo-TriBeCa-Civic Center-Little Italy\", \"Latitude\": 40.7204, \"Longitude\": -74.0014},\n",
    "    {\"Neighborhood\": \"Battery Park City-Lower Manhattan\", \"Latitude\": 40.7083, \"Longitude\": -74.0141},\n",
    "    {\"Neighborhood\": \"Lower East Side\", \"Latitude\": 40.715, \"Longitude\": -73.984},\n",
    "    {\"Neighborhood\": \"Lenox Hill-Roosevelt Island\", \"Latitude\": 40.7656, \"Longitude\": -73.958},\n",
    "    {\"Neighborhood\": \"East Harlem South\", \"Latitude\": 40.7922, \"Longitude\": -73.944},\n",
    "    {\"Neighborhood\": \"East Harlem North\", \"Latitude\": 40.7981, \"Longitude\": -73.9346},\n",
    "    {\"Neighborhood\": \"Washington Heights North\", \"Latitude\": 40.8467, \"Longitude\": -73.9389},\n",
    "    {\"Neighborhood\": \"Washington Heights South\", \"Latitude\": 40.8347, \"Longitude\": -73.9394},\n",
    "    {\"Neighborhood\": \"Upper East Side-Carnegie Hill\", \"Latitude\": 40.7759, \"Longitude\": -73.947},\n",
    "    {\"Neighborhood\": \"Stuyvesant Town-Cooper Village\", \"Latitude\": 40.7317, \"Longitude\": -73.9783},\n",
    "    {\"Neighborhood\": \"park-cemetery-etc-Manhattan\", \"Latitude\": 40.7831, \"Longitude\": -73.9712},\n",
    "]\n",
    "\n",
    "# Display neighborhoods and their coordinates\n",
    "for neighborhood in neighborhoods_data:\n",
    "    print(f\"{neighborhood['Neighborhood']}: Latitude {neighborhood['Latitude']}, Longitude {neighborhood['Longitude']}\")"
   ]
  },
  {
   "cell_type": "code",
   "execution_count": null,
   "id": "5687aa38",
   "metadata": {},
   "outputs": [],
   "source": [
    "import pandas as pd\n",
    "\n",
    "neighborhoods_df_data = pd.DataFrame(neighborhoods_data)\n",
    "\n",
    "# Change this to the actual column name from your dataset\n",
    "neighborhood_df['Neighborhood Tabulation Area Name (NTA NAME)'] = neighborhood_df['Neighborhood Tabulation Area Name (NTA NAME)'].str.strip()\n",
    "\n",
    "# Merge neighborhood_df with neighborhoods_df_data on the 'Neighborhood Tabulation Area Name (NTA NAME)' column\n",
    "merged_df = pd.merge(neighborhood_df, neighborhoods_df_data, left_on='Neighborhood Tabulation Area Name (NTA NAME)', right_on='Neighborhood', how='left')"
   ]
  },
  {
   "cell_type": "code",
   "execution_count": null,
   "id": "6397c276",
   "metadata": {},
   "outputs": [],
   "source": [
    "import geopandas as gpd\n",
    "from shapely.geometry import Point\n",
    "\n",
    "# Assuming 'Latitude' and 'Longitude' are columns in your citi_df DataFrame\n",
    "merged_gdf = gpd.GeoDataFrame(merged_df, geometry=gpd.points_from_xy(merged_df['Longitude'], merged_df['Latitude']))\n",
    "\n",
    "# Perform spatial join\n",
    "merged_df_with_neighborhoods = gpd.sjoin(merged_gdf, neighborhoods, op='within', how='left')\n",
    "\n",
    "# Check resulting columns\n",
    "print(merged_df_with_neighborhoods.columns)\n",
    "\n",
    "# Drop unnecessary columns\n",
    "if 'neighborhood' in merged_df_with_neighborhoods.columns:\n",
    "    merged_df_with_neighborhoods = merged_df_with_neighborhoods[['Longitude', 'Latitude', 'geometry', 'neighborhood']]\n",
    "\n",
    "# Display the resulting GeoDataFrame\n",
    "print(merged_df_with_neighborhoods.head())"
   ]
  },
  {
   "cell_type": "code",
   "execution_count": null,
   "id": "ba52210c",
   "metadata": {},
   "outputs": [],
   "source": [
    "merged_df_with_neighborhoods.to_csv('internet survey v2', index=False)"
   ]
  },
  {
   "cell_type": "code",
   "execution_count": null,
   "id": "71f4d923",
   "metadata": {},
   "outputs": [],
   "source": []
  }
 ],
 "metadata": {
  "kernelspec": {
   "display_name": "Python 3 (ipykernel)",
   "language": "python",
   "name": "python3"
  },
  "language_info": {
   "codemirror_mode": {
    "name": "ipython",
    "version": 3
   },
   "file_extension": ".py",
   "mimetype": "text/x-python",
   "name": "python",
   "nbconvert_exporter": "python",
   "pygments_lexer": "ipython3",
   "version": "3.10.9"
  }
 },
 "nbformat": 4,
 "nbformat_minor": 5
}
